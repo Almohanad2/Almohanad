{
 "cells": [
  {
   "cell_type": "markdown",
   "metadata": {},
   "source": [
    "\n",
    "# Project: Investigate a Dataset - [No-Show Appointments]\n",
    "\n",
    "## Table of Contents\n",
    "<ul>\n",
    "<li><a href=\"#intro\">Introduction</a></li>\n",
    "<li><a href=\"#wrangling\">Data Wrangling</a></li>\n",
    "<li><a href=\"#eda\">Exploratory Data Analysis</a></li>\n",
    "<li><a href=\"#conclusions\">Conclusions</a></li>\n",
    "</ul>"
   ]
  },
  {
   "cell_type": "markdown",
   "metadata": {},
   "source": [
    "<a id='intro'></a>\n",
    "## Introduction\n",
    "\n",
    "### Dataset Description \n",
    "\n",
    " \n",
    "> The dataset titled No-show Appointments is representing \"the dataset collects information from 100k medical appointments in Brazil and is focused on the question of whether or not patients show up for their appointment\"\n",
    "\n",
    "> The dataset has 14 columns that name are:\n",
    "PatientId         \n",
    "AppointmentID     \n",
    "Gender             \n",
    "ScheduledDay     \n",
    "AppointmentDay     \n",
    "Age                 \n",
    "Neighbourhood      \n",
    "Scholarship         \n",
    "Hipertension        \n",
    "Diabetes           \n",
    "Alcoholism          \n",
    "Handcap             \n",
    "SMS_received        \n",
    "No-show            \n",
    "\n",
    "### Question(s) for Analysis\n",
    " \n",
    "> Does The Two 'Genders' Show Different Behavoir Regarding Show/ No-show to Their Appointment?\n",
    "\n",
    "> Does The Neighbourhoods Have an Effect on Attending The Appointment?\n",
    "\n",
    "> Does The Number of Days Between the Schedlue day and Appointment Day Has an Effect on Attending The Appointment?\n"
   ]
  },
  {
   "cell_type": "code",
   "execution_count": 1,
   "metadata": {},
   "outputs": [],
   "source": [
    "# import statements for all of the packages \n",
    "import numpy as np\n",
    "import pandas as pd\n",
    "import matplotlib.pyplot as plt\n"
   ]
  },
  {
   "cell_type": "code",
   "execution_count": 2,
   "metadata": {},
   "outputs": [
    {
     "name": "stdout",
     "output_type": "stream",
     "text": [
      "Requirement already up-to-date: pandas==0.25.0 in /opt/conda/lib/python3.6/site-packages (0.25.0)\r\n",
      "Requirement already satisfied, skipping upgrade: pytz>=2017.2 in /opt/conda/lib/python3.6/site-packages (from pandas==0.25.0) (2017.3)\r\n",
      "Requirement already satisfied, skipping upgrade: numpy>=1.13.3 in /opt/conda/lib/python3.6/site-packages (from pandas==0.25.0) (1.19.5)\r\n",
      "Requirement already satisfied, skipping upgrade: python-dateutil>=2.6.1 in /opt/conda/lib/python3.6/site-packages (from pandas==0.25.0) (2.6.1)\r\n",
      "Requirement already satisfied, skipping upgrade: six>=1.5 in /opt/conda/lib/python3.6/site-packages (from python-dateutil>=2.6.1->pandas==0.25.0) (1.11.0)\r\n"
     ]
    }
   ],
   "source": [
    "#Upgrade pandas to use dataframe.explode() function. \n",
    "!pip install --upgrade pandas==0.25.0"
   ]
  },
  {
   "cell_type": "code",
   "execution_count": 3,
   "metadata": {},
   "outputs": [],
   "source": [
    "def Load_data(file_name):\n",
    "    \"\"\" Use to load data from a cvs file and return a dataframe \"\"\"\n",
    "    df = pd.read_csv(file_name);\n",
    "    return df\n",
    "\n",
    "\n",
    "def describe_data(df):\n",
    "    \"\"\" Use to compute the statistics of an assigned dataframe \"\"\"\n",
    "    df_ = df.describe()\n",
    "    return df_"
   ]
  },
  {
   "cell_type": "markdown",
   "metadata": {},
   "source": [
    "<a id='wrangling'></a>\n",
    "## Data Wrangling\n"
   ]
  },
  {
   "cell_type": "code",
   "execution_count": 4,
   "metadata": {},
   "outputs": [
    {
     "data": {
      "text/html": [
       "<div>\n",
       "<style scoped>\n",
       "    .dataframe tbody tr th:only-of-type {\n",
       "        vertical-align: middle;\n",
       "    }\n",
       "\n",
       "    .dataframe tbody tr th {\n",
       "        vertical-align: top;\n",
       "    }\n",
       "\n",
       "    .dataframe thead th {\n",
       "        text-align: right;\n",
       "    }\n",
       "</style>\n",
       "<table border=\"1\" class=\"dataframe\">\n",
       "  <thead>\n",
       "    <tr style=\"text-align: right;\">\n",
       "      <th></th>\n",
       "      <th>PatientId</th>\n",
       "      <th>AppointmentID</th>\n",
       "      <th>Gender</th>\n",
       "      <th>ScheduledDay</th>\n",
       "      <th>AppointmentDay</th>\n",
       "      <th>Age</th>\n",
       "      <th>Neighbourhood</th>\n",
       "      <th>Scholarship</th>\n",
       "      <th>Hipertension</th>\n",
       "      <th>Diabetes</th>\n",
       "      <th>Alcoholism</th>\n",
       "      <th>Handcap</th>\n",
       "      <th>SMS_received</th>\n",
       "      <th>No-show</th>\n",
       "    </tr>\n",
       "  </thead>\n",
       "  <tbody>\n",
       "    <tr>\n",
       "      <th>0</th>\n",
       "      <td>2.987250e+13</td>\n",
       "      <td>5642903</td>\n",
       "      <td>F</td>\n",
       "      <td>2016-04-29T18:38:08Z</td>\n",
       "      <td>2016-04-29T00:00:00Z</td>\n",
       "      <td>62</td>\n",
       "      <td>JARDIM DA PENHA</td>\n",
       "      <td>0</td>\n",
       "      <td>1</td>\n",
       "      <td>0</td>\n",
       "      <td>0</td>\n",
       "      <td>0</td>\n",
       "      <td>0</td>\n",
       "      <td>No</td>\n",
       "    </tr>\n",
       "    <tr>\n",
       "      <th>1</th>\n",
       "      <td>5.589978e+14</td>\n",
       "      <td>5642503</td>\n",
       "      <td>M</td>\n",
       "      <td>2016-04-29T16:08:27Z</td>\n",
       "      <td>2016-04-29T00:00:00Z</td>\n",
       "      <td>56</td>\n",
       "      <td>JARDIM DA PENHA</td>\n",
       "      <td>0</td>\n",
       "      <td>0</td>\n",
       "      <td>0</td>\n",
       "      <td>0</td>\n",
       "      <td>0</td>\n",
       "      <td>0</td>\n",
       "      <td>No</td>\n",
       "    </tr>\n",
       "    <tr>\n",
       "      <th>2</th>\n",
       "      <td>4.262962e+12</td>\n",
       "      <td>5642549</td>\n",
       "      <td>F</td>\n",
       "      <td>2016-04-29T16:19:04Z</td>\n",
       "      <td>2016-04-29T00:00:00Z</td>\n",
       "      <td>62</td>\n",
       "      <td>MATA DA PRAIA</td>\n",
       "      <td>0</td>\n",
       "      <td>0</td>\n",
       "      <td>0</td>\n",
       "      <td>0</td>\n",
       "      <td>0</td>\n",
       "      <td>0</td>\n",
       "      <td>No</td>\n",
       "    </tr>\n",
       "    <tr>\n",
       "      <th>3</th>\n",
       "      <td>8.679512e+11</td>\n",
       "      <td>5642828</td>\n",
       "      <td>F</td>\n",
       "      <td>2016-04-29T17:29:31Z</td>\n",
       "      <td>2016-04-29T00:00:00Z</td>\n",
       "      <td>8</td>\n",
       "      <td>PONTAL DE CAMBURI</td>\n",
       "      <td>0</td>\n",
       "      <td>0</td>\n",
       "      <td>0</td>\n",
       "      <td>0</td>\n",
       "      <td>0</td>\n",
       "      <td>0</td>\n",
       "      <td>No</td>\n",
       "    </tr>\n",
       "    <tr>\n",
       "      <th>4</th>\n",
       "      <td>8.841186e+12</td>\n",
       "      <td>5642494</td>\n",
       "      <td>F</td>\n",
       "      <td>2016-04-29T16:07:23Z</td>\n",
       "      <td>2016-04-29T00:00:00Z</td>\n",
       "      <td>56</td>\n",
       "      <td>JARDIM DA PENHA</td>\n",
       "      <td>0</td>\n",
       "      <td>1</td>\n",
       "      <td>1</td>\n",
       "      <td>0</td>\n",
       "      <td>0</td>\n",
       "      <td>0</td>\n",
       "      <td>No</td>\n",
       "    </tr>\n",
       "  </tbody>\n",
       "</table>\n",
       "</div>"
      ],
      "text/plain": [
       "      PatientId  AppointmentID Gender          ScheduledDay  \\\n",
       "0  2.987250e+13        5642903      F  2016-04-29T18:38:08Z   \n",
       "1  5.589978e+14        5642503      M  2016-04-29T16:08:27Z   \n",
       "2  4.262962e+12        5642549      F  2016-04-29T16:19:04Z   \n",
       "3  8.679512e+11        5642828      F  2016-04-29T17:29:31Z   \n",
       "4  8.841186e+12        5642494      F  2016-04-29T16:07:23Z   \n",
       "\n",
       "         AppointmentDay  Age      Neighbourhood  Scholarship  Hipertension  \\\n",
       "0  2016-04-29T00:00:00Z   62    JARDIM DA PENHA            0             1   \n",
       "1  2016-04-29T00:00:00Z   56    JARDIM DA PENHA            0             0   \n",
       "2  2016-04-29T00:00:00Z   62      MATA DA PRAIA            0             0   \n",
       "3  2016-04-29T00:00:00Z    8  PONTAL DE CAMBURI            0             0   \n",
       "4  2016-04-29T00:00:00Z   56    JARDIM DA PENHA            0             1   \n",
       "\n",
       "   Diabetes  Alcoholism  Handcap  SMS_received No-show  \n",
       "0         0           0        0             0      No  \n",
       "1         0           0        0             0      No  \n",
       "2         0           0        0             0      No  \n",
       "3         0           0        0             0      No  \n",
       "4         1           0        0             0      No  "
      ]
     },
     "execution_count": 4,
     "metadata": {},
     "output_type": "execute_result"
    }
   ],
   "source": [
    "df = Load_data('noshowappointments-kagglev2-may-2016.csv')\n",
    "df.head()"
   ]
  },
  {
   "cell_type": "markdown",
   "metadata": {},
   "source": [
    "The data was loaded and a datafram was created. The column header was displayed. "
   ]
  },
  {
   "cell_type": "code",
   "execution_count": 5,
   "metadata": {},
   "outputs": [
    {
     "data": {
      "text/html": [
       "<div>\n",
       "<style scoped>\n",
       "    .dataframe tbody tr th:only-of-type {\n",
       "        vertical-align: middle;\n",
       "    }\n",
       "\n",
       "    .dataframe tbody tr th {\n",
       "        vertical-align: top;\n",
       "    }\n",
       "\n",
       "    .dataframe thead th {\n",
       "        text-align: right;\n",
       "    }\n",
       "</style>\n",
       "<table border=\"1\" class=\"dataframe\">\n",
       "  <thead>\n",
       "    <tr style=\"text-align: right;\">\n",
       "      <th></th>\n",
       "      <th>PatientId</th>\n",
       "      <th>AppointmentID</th>\n",
       "      <th>Age</th>\n",
       "      <th>Scholarship</th>\n",
       "      <th>Hipertension</th>\n",
       "      <th>Diabetes</th>\n",
       "      <th>Alcoholism</th>\n",
       "      <th>Handcap</th>\n",
       "      <th>SMS_received</th>\n",
       "    </tr>\n",
       "  </thead>\n",
       "  <tbody>\n",
       "    <tr>\n",
       "      <th>count</th>\n",
       "      <td>1.105270e+05</td>\n",
       "      <td>1.105270e+05</td>\n",
       "      <td>110527.000000</td>\n",
       "      <td>110527.000000</td>\n",
       "      <td>110527.000000</td>\n",
       "      <td>110527.000000</td>\n",
       "      <td>110527.000000</td>\n",
       "      <td>110527.000000</td>\n",
       "      <td>110527.000000</td>\n",
       "    </tr>\n",
       "    <tr>\n",
       "      <th>mean</th>\n",
       "      <td>1.474963e+14</td>\n",
       "      <td>5.675305e+06</td>\n",
       "      <td>37.088874</td>\n",
       "      <td>0.098266</td>\n",
       "      <td>0.197246</td>\n",
       "      <td>0.071865</td>\n",
       "      <td>0.030400</td>\n",
       "      <td>0.022248</td>\n",
       "      <td>0.321026</td>\n",
       "    </tr>\n",
       "    <tr>\n",
       "      <th>std</th>\n",
       "      <td>2.560949e+14</td>\n",
       "      <td>7.129575e+04</td>\n",
       "      <td>23.110205</td>\n",
       "      <td>0.297675</td>\n",
       "      <td>0.397921</td>\n",
       "      <td>0.258265</td>\n",
       "      <td>0.171686</td>\n",
       "      <td>0.161543</td>\n",
       "      <td>0.466873</td>\n",
       "    </tr>\n",
       "    <tr>\n",
       "      <th>min</th>\n",
       "      <td>3.921784e+04</td>\n",
       "      <td>5.030230e+06</td>\n",
       "      <td>-1.000000</td>\n",
       "      <td>0.000000</td>\n",
       "      <td>0.000000</td>\n",
       "      <td>0.000000</td>\n",
       "      <td>0.000000</td>\n",
       "      <td>0.000000</td>\n",
       "      <td>0.000000</td>\n",
       "    </tr>\n",
       "    <tr>\n",
       "      <th>25%</th>\n",
       "      <td>4.172614e+12</td>\n",
       "      <td>5.640286e+06</td>\n",
       "      <td>18.000000</td>\n",
       "      <td>0.000000</td>\n",
       "      <td>0.000000</td>\n",
       "      <td>0.000000</td>\n",
       "      <td>0.000000</td>\n",
       "      <td>0.000000</td>\n",
       "      <td>0.000000</td>\n",
       "    </tr>\n",
       "    <tr>\n",
       "      <th>50%</th>\n",
       "      <td>3.173184e+13</td>\n",
       "      <td>5.680573e+06</td>\n",
       "      <td>37.000000</td>\n",
       "      <td>0.000000</td>\n",
       "      <td>0.000000</td>\n",
       "      <td>0.000000</td>\n",
       "      <td>0.000000</td>\n",
       "      <td>0.000000</td>\n",
       "      <td>0.000000</td>\n",
       "    </tr>\n",
       "    <tr>\n",
       "      <th>75%</th>\n",
       "      <td>9.439172e+13</td>\n",
       "      <td>5.725524e+06</td>\n",
       "      <td>55.000000</td>\n",
       "      <td>0.000000</td>\n",
       "      <td>0.000000</td>\n",
       "      <td>0.000000</td>\n",
       "      <td>0.000000</td>\n",
       "      <td>0.000000</td>\n",
       "      <td>1.000000</td>\n",
       "    </tr>\n",
       "    <tr>\n",
       "      <th>max</th>\n",
       "      <td>9.999816e+14</td>\n",
       "      <td>5.790484e+06</td>\n",
       "      <td>115.000000</td>\n",
       "      <td>1.000000</td>\n",
       "      <td>1.000000</td>\n",
       "      <td>1.000000</td>\n",
       "      <td>1.000000</td>\n",
       "      <td>4.000000</td>\n",
       "      <td>1.000000</td>\n",
       "    </tr>\n",
       "  </tbody>\n",
       "</table>\n",
       "</div>"
      ],
      "text/plain": [
       "          PatientId  AppointmentID            Age    Scholarship  \\\n",
       "count  1.105270e+05   1.105270e+05  110527.000000  110527.000000   \n",
       "mean   1.474963e+14   5.675305e+06      37.088874       0.098266   \n",
       "std    2.560949e+14   7.129575e+04      23.110205       0.297675   \n",
       "min    3.921784e+04   5.030230e+06      -1.000000       0.000000   \n",
       "25%    4.172614e+12   5.640286e+06      18.000000       0.000000   \n",
       "50%    3.173184e+13   5.680573e+06      37.000000       0.000000   \n",
       "75%    9.439172e+13   5.725524e+06      55.000000       0.000000   \n",
       "max    9.999816e+14   5.790484e+06     115.000000       1.000000   \n",
       "\n",
       "        Hipertension       Diabetes     Alcoholism        Handcap  \\\n",
       "count  110527.000000  110527.000000  110527.000000  110527.000000   \n",
       "mean        0.197246       0.071865       0.030400       0.022248   \n",
       "std         0.397921       0.258265       0.171686       0.161543   \n",
       "min         0.000000       0.000000       0.000000       0.000000   \n",
       "25%         0.000000       0.000000       0.000000       0.000000   \n",
       "50%         0.000000       0.000000       0.000000       0.000000   \n",
       "75%         0.000000       0.000000       0.000000       0.000000   \n",
       "max         1.000000       1.000000       1.000000       4.000000   \n",
       "\n",
       "        SMS_received  \n",
       "count  110527.000000  \n",
       "mean        0.321026  \n",
       "std         0.466873  \n",
       "min         0.000000  \n",
       "25%         0.000000  \n",
       "50%         0.000000  \n",
       "75%         1.000000  \n",
       "max         1.000000  "
      ]
     },
     "execution_count": 5,
     "metadata": {},
     "output_type": "execute_result"
    }
   ],
   "source": [
    "describe_data(df)"
   ]
  },
  {
   "cell_type": "markdown",
   "metadata": {},
   "source": [
    "The stastistics was computed for each column."
   ]
  },
  {
   "cell_type": "code",
   "execution_count": 6,
   "metadata": {},
   "outputs": [
    {
     "data": {
      "text/plain": [
       "PatientId         float64\n",
       "AppointmentID       int64\n",
       "Gender             object\n",
       "ScheduledDay       object\n",
       "AppointmentDay     object\n",
       "Age                 int64\n",
       "Neighbourhood      object\n",
       "Scholarship         int64\n",
       "Hipertension        int64\n",
       "Diabetes            int64\n",
       "Alcoholism          int64\n",
       "Handcap             int64\n",
       "SMS_received        int64\n",
       "No-show            object\n",
       "dtype: object"
      ]
     },
     "execution_count": 6,
     "metadata": {},
     "output_type": "execute_result"
    }
   ],
   "source": [
    "df.dtypes"
   ]
  },
  {
   "cell_type": "markdown",
   "metadata": {},
   "source": [
    "This table represent the type of each column enetry"
   ]
  },
  {
   "cell_type": "markdown",
   "metadata": {},
   "source": [
    "\n",
    "### Data Cleaning\n",
    "\n",
    " "
   ]
  },
  {
   "cell_type": "code",
   "execution_count": 7,
   "metadata": {},
   "outputs": [],
   "source": [
    "\n",
    "df['ScheduledDay'] = pd.to_datetime(df['ScheduledDay'])\n",
    "df['AppointmentDay'] = pd.to_datetime(df['AppointmentDay'])"
   ]
  },
  {
   "cell_type": "markdown",
   "metadata": {},
   "source": [
    "The data type shows that the 'ScheduledDay' and 'AppointmentDay' are in a string format, so they switched to be in a daytime format for further analysis."
   ]
  },
  {
   "cell_type": "code",
   "execution_count": 8,
   "metadata": {},
   "outputs": [],
   "source": [
    "df['Sch_month'] = df['ScheduledDay'].dt.month\n",
    "df['Sch_day'] = df['ScheduledDay'].dt.day\n",
    "df['App_month'] = df['AppointmentDay'].dt.month\n",
    "df['App_day'] = df['AppointmentDay'].dt.day"
   ]
  },
  {
   "cell_type": "markdown",
   "metadata": {},
   "source": [
    "Four columns were added to show in detail the SchdulDay and AppointmentDay data entry"
   ]
  },
  {
   "cell_type": "code",
   "execution_count": 9,
   "metadata": {},
   "outputs": [],
   "source": [
    "df['num_days'] = (df['AppointmentDay'] - df['ScheduledDay']).dt.days"
   ]
  },
  {
   "cell_type": "markdown",
   "metadata": {},
   "source": [
    "New column is added called 'num_days' indicates the number of days from schedling day of the appointment till the actual appointment day."
   ]
  },
  {
   "cell_type": "code",
   "execution_count": 10,
   "metadata": {},
   "outputs": [
    {
     "data": {
      "text/html": [
       "<div>\n",
       "<style scoped>\n",
       "    .dataframe tbody tr th:only-of-type {\n",
       "        vertical-align: middle;\n",
       "    }\n",
       "\n",
       "    .dataframe tbody tr th {\n",
       "        vertical-align: top;\n",
       "    }\n",
       "\n",
       "    .dataframe thead th {\n",
       "        text-align: right;\n",
       "    }\n",
       "</style>\n",
       "<table border=\"1\" class=\"dataframe\">\n",
       "  <thead>\n",
       "    <tr style=\"text-align: right;\">\n",
       "      <th></th>\n",
       "      <th>PatientId</th>\n",
       "      <th>AppointmentID</th>\n",
       "      <th>Gender</th>\n",
       "      <th>ScheduledDay</th>\n",
       "      <th>AppointmentDay</th>\n",
       "      <th>Age</th>\n",
       "      <th>Neighbourhood</th>\n",
       "      <th>Scholarship</th>\n",
       "      <th>Hipertension</th>\n",
       "      <th>Diabetes</th>\n",
       "      <th>Alcoholism</th>\n",
       "      <th>Handcap</th>\n",
       "      <th>SMS_received</th>\n",
       "      <th>No-show</th>\n",
       "      <th>Sch_month</th>\n",
       "      <th>Sch_day</th>\n",
       "      <th>App_month</th>\n",
       "      <th>App_day</th>\n",
       "      <th>num_days</th>\n",
       "    </tr>\n",
       "  </thead>\n",
       "  <tbody>\n",
       "    <tr>\n",
       "      <th>0</th>\n",
       "      <td>2.987250e+13</td>\n",
       "      <td>5642903</td>\n",
       "      <td>F</td>\n",
       "      <td>2016-04-29 18:38:08+00:00</td>\n",
       "      <td>2016-04-29 00:00:00+00:00</td>\n",
       "      <td>62</td>\n",
       "      <td>JARDIM DA PENHA</td>\n",
       "      <td>0</td>\n",
       "      <td>1</td>\n",
       "      <td>0</td>\n",
       "      <td>0</td>\n",
       "      <td>0</td>\n",
       "      <td>0</td>\n",
       "      <td>No</td>\n",
       "      <td>4</td>\n",
       "      <td>29</td>\n",
       "      <td>4</td>\n",
       "      <td>29</td>\n",
       "      <td>-1</td>\n",
       "    </tr>\n",
       "    <tr>\n",
       "      <th>1</th>\n",
       "      <td>5.589978e+14</td>\n",
       "      <td>5642503</td>\n",
       "      <td>M</td>\n",
       "      <td>2016-04-29 16:08:27+00:00</td>\n",
       "      <td>2016-04-29 00:00:00+00:00</td>\n",
       "      <td>56</td>\n",
       "      <td>JARDIM DA PENHA</td>\n",
       "      <td>0</td>\n",
       "      <td>0</td>\n",
       "      <td>0</td>\n",
       "      <td>0</td>\n",
       "      <td>0</td>\n",
       "      <td>0</td>\n",
       "      <td>No</td>\n",
       "      <td>4</td>\n",
       "      <td>29</td>\n",
       "      <td>4</td>\n",
       "      <td>29</td>\n",
       "      <td>-1</td>\n",
       "    </tr>\n",
       "    <tr>\n",
       "      <th>2</th>\n",
       "      <td>4.262962e+12</td>\n",
       "      <td>5642549</td>\n",
       "      <td>F</td>\n",
       "      <td>2016-04-29 16:19:04+00:00</td>\n",
       "      <td>2016-04-29 00:00:00+00:00</td>\n",
       "      <td>62</td>\n",
       "      <td>MATA DA PRAIA</td>\n",
       "      <td>0</td>\n",
       "      <td>0</td>\n",
       "      <td>0</td>\n",
       "      <td>0</td>\n",
       "      <td>0</td>\n",
       "      <td>0</td>\n",
       "      <td>No</td>\n",
       "      <td>4</td>\n",
       "      <td>29</td>\n",
       "      <td>4</td>\n",
       "      <td>29</td>\n",
       "      <td>-1</td>\n",
       "    </tr>\n",
       "    <tr>\n",
       "      <th>3</th>\n",
       "      <td>8.679512e+11</td>\n",
       "      <td>5642828</td>\n",
       "      <td>F</td>\n",
       "      <td>2016-04-29 17:29:31+00:00</td>\n",
       "      <td>2016-04-29 00:00:00+00:00</td>\n",
       "      <td>8</td>\n",
       "      <td>PONTAL DE CAMBURI</td>\n",
       "      <td>0</td>\n",
       "      <td>0</td>\n",
       "      <td>0</td>\n",
       "      <td>0</td>\n",
       "      <td>0</td>\n",
       "      <td>0</td>\n",
       "      <td>No</td>\n",
       "      <td>4</td>\n",
       "      <td>29</td>\n",
       "      <td>4</td>\n",
       "      <td>29</td>\n",
       "      <td>-1</td>\n",
       "    </tr>\n",
       "    <tr>\n",
       "      <th>4</th>\n",
       "      <td>8.841186e+12</td>\n",
       "      <td>5642494</td>\n",
       "      <td>F</td>\n",
       "      <td>2016-04-29 16:07:23+00:00</td>\n",
       "      <td>2016-04-29 00:00:00+00:00</td>\n",
       "      <td>56</td>\n",
       "      <td>JARDIM DA PENHA</td>\n",
       "      <td>0</td>\n",
       "      <td>1</td>\n",
       "      <td>1</td>\n",
       "      <td>0</td>\n",
       "      <td>0</td>\n",
       "      <td>0</td>\n",
       "      <td>No</td>\n",
       "      <td>4</td>\n",
       "      <td>29</td>\n",
       "      <td>4</td>\n",
       "      <td>29</td>\n",
       "      <td>-1</td>\n",
       "    </tr>\n",
       "  </tbody>\n",
       "</table>\n",
       "</div>"
      ],
      "text/plain": [
       "      PatientId  AppointmentID Gender              ScheduledDay  \\\n",
       "0  2.987250e+13        5642903      F 2016-04-29 18:38:08+00:00   \n",
       "1  5.589978e+14        5642503      M 2016-04-29 16:08:27+00:00   \n",
       "2  4.262962e+12        5642549      F 2016-04-29 16:19:04+00:00   \n",
       "3  8.679512e+11        5642828      F 2016-04-29 17:29:31+00:00   \n",
       "4  8.841186e+12        5642494      F 2016-04-29 16:07:23+00:00   \n",
       "\n",
       "             AppointmentDay  Age      Neighbourhood  Scholarship  \\\n",
       "0 2016-04-29 00:00:00+00:00   62    JARDIM DA PENHA            0   \n",
       "1 2016-04-29 00:00:00+00:00   56    JARDIM DA PENHA            0   \n",
       "2 2016-04-29 00:00:00+00:00   62      MATA DA PRAIA            0   \n",
       "3 2016-04-29 00:00:00+00:00    8  PONTAL DE CAMBURI            0   \n",
       "4 2016-04-29 00:00:00+00:00   56    JARDIM DA PENHA            0   \n",
       "\n",
       "   Hipertension  Diabetes  Alcoholism  Handcap  SMS_received No-show  \\\n",
       "0             1         0           0        0             0      No   \n",
       "1             0         0           0        0             0      No   \n",
       "2             0         0           0        0             0      No   \n",
       "3             0         0           0        0             0      No   \n",
       "4             1         1           0        0             0      No   \n",
       "\n",
       "   Sch_month  Sch_day  App_month  App_day  num_days  \n",
       "0          4       29          4       29        -1  \n",
       "1          4       29          4       29        -1  \n",
       "2          4       29          4       29        -1  \n",
       "3          4       29          4       29        -1  \n",
       "4          4       29          4       29        -1  "
      ]
     },
     "execution_count": 10,
     "metadata": {},
     "output_type": "execute_result"
    }
   ],
   "source": [
    "df.head()"
   ]
  },
  {
   "cell_type": "code",
   "execution_count": 11,
   "metadata": {},
   "outputs": [
    {
     "name": "stdout",
     "output_type": "stream",
     "text": [
      "0\n"
     ]
    }
   ],
   "source": [
    "print(sum(df.duplicated()))"
   ]
  },
  {
   "cell_type": "markdown",
   "metadata": {},
   "source": [
    "This line for checking for a duplicate entery"
   ]
  },
  {
   "cell_type": "code",
   "execution_count": 12,
   "metadata": {},
   "outputs": [],
   "source": [
    "df = df.drop(df[df['Age'] <= 0].index)"
   ]
  },
  {
   "cell_type": "markdown",
   "metadata": {},
   "source": [
    "Negative 'Age' values have been noticed, so they are removed for the dataset for an accurate data analysis"
   ]
  },
  {
   "cell_type": "code",
   "execution_count": 13,
   "metadata": {},
   "outputs": [],
   "source": [
    "df = df.drop(df[df['Handcap'] > 1].index)"
   ]
  },
  {
   "cell_type": "markdown",
   "metadata": {},
   "source": [
    "Values higher than 1 have been noticed in 'Handcap' column, so they are removed as this column take only either 0 or 1 as an entry."
   ]
  },
  {
   "cell_type": "code",
   "execution_count": 14,
   "metadata": {},
   "outputs": [],
   "source": [
    "df = df.drop(df[df['num_days'] < 0].index)"
   ]
  },
  {
   "cell_type": "markdown",
   "metadata": {},
   "source": [
    "Negative 'num_days' values have been noticed, so they are removed from the dataset for an accurate data analysis as the appointment day cannot come before schedling day."
   ]
  },
  {
   "cell_type": "markdown",
   "metadata": {},
   "source": [
    "<a id='eda'></a>\n",
    "## Exploratory Data Analysis\n",
    "\n",
    "\n",
    "\n",
    "### Does The Two 'Genders' Show Different Behavoir Regarding Show/ No-show to Their Appointment"
   ]
  },
  {
   "cell_type": "markdown",
   "metadata": {},
   "source": [
    "First, Check the percentage of Male and Female and the percenatge of Show - No-show "
   ]
  },
  {
   "cell_type": "code",
   "execution_count": 15,
   "metadata": {},
   "outputs": [
    {
     "data": {
      "text/plain": [
       "No     0.714558\n",
       "Yes    0.285442\n",
       "Name: No-show, dtype: float64"
      ]
     },
     "execution_count": 15,
     "metadata": {},
     "output_type": "execute_result"
    },
    {
     "data": {
      "image/png": "[encoded data removed]",
      "text/plain": [
       "<matplotlib.figure.Figure at 0x7f3c7c4d4550>"
      ]
     },
     "metadata": {},
     "output_type": "display_data"
    }
   ],
   "source": [
    "df['Gender'].value_counts().plot(kind='pie');\n",
    "df['No-show'].value_counts(6)"
   ]
  },
  {
   "cell_type": "markdown",
   "metadata": {},
   "source": [
    "From the pie chart the percentage of Female in this dataset is around 67% and the rest is male. Also the percentage of patient showing to there appointement is around 71%."
   ]
  },
  {
   "cell_type": "code",
   "execution_count": 16,
   "metadata": {},
   "outputs": [
    {
     "data": {
      "text/plain": [
       "F    0.673701\n",
       "M    0.326299\n",
       "Name: Gender, dtype: float64"
      ]
     },
     "execution_count": 16,
     "metadata": {},
     "output_type": "execute_result"
    }
   ],
   "source": [
    "df['Gender'].value_counts(6)"
   ]
  },
  {
   "cell_type": "markdown",
   "metadata": {},
   "source": [
    "To further explore the data, the dataset will be divided based on \"Gender\" (Male and Femal). Then, the percenatge of Show - No-show is computed"
   ]
  },
  {
   "cell_type": "code",
   "execution_count": 17,
   "metadata": {},
   "outputs": [],
   "source": [
    "df_m = df[df['Gender'] == 'M']\n",
    "df_f = df[df['Gender'] == 'F']"
   ]
  },
  {
   "cell_type": "code",
   "execution_count": 18,
   "metadata": {},
   "outputs": [
    {
     "name": "stdout",
     "output_type": "stream",
     "text": [
      "No     0.712376\n",
      "Yes    0.287624\n",
      "Name: No-show, dtype: float64\n",
      "No     0.715615\n",
      "Yes    0.284385\n",
      "Name: No-show, dtype: float64\n"
     ]
    }
   ],
   "source": [
    "x = df_m['No-show'].value_counts(1)\n",
    "print(x)\n",
    "y = df_f['No-show'].value_counts(1)\n",
    "print(y)"
   ]
  },
  {
   "cell_type": "markdown",
   "metadata": {},
   "source": [
    "The results in both sets show a similarity to the main dataset with around 71% showing to there appointement with a slight high no show amoung male."
   ]
  },
  {
   "cell_type": "code",
   "execution_count": 19,
   "metadata": {},
   "outputs": [
    {
     "data": {
      "text/html": [
       "<div>\n",
       "<style scoped>\n",
       "    .dataframe tbody tr th:only-of-type {\n",
       "        vertical-align: middle;\n",
       "    }\n",
       "\n",
       "    .dataframe tbody tr th {\n",
       "        vertical-align: top;\n",
       "    }\n",
       "\n",
       "    .dataframe thead th {\n",
       "        text-align: right;\n",
       "    }\n",
       "</style>\n",
       "<table border=\"1\" class=\"dataframe\">\n",
       "  <thead>\n",
       "    <tr style=\"text-align: right;\">\n",
       "      <th></th>\n",
       "      <th>PatientId</th>\n",
       "      <th>AppointmentID</th>\n",
       "      <th>Age</th>\n",
       "      <th>Scholarship</th>\n",
       "      <th>Hipertension</th>\n",
       "      <th>Diabetes</th>\n",
       "      <th>Alcoholism</th>\n",
       "      <th>Handcap</th>\n",
       "      <th>SMS_received</th>\n",
       "      <th>Sch_month</th>\n",
       "      <th>Sch_day</th>\n",
       "      <th>App_month</th>\n",
       "      <th>App_day</th>\n",
       "      <th>num_days</th>\n",
       "    </tr>\n",
       "  </thead>\n",
       "  <tbody>\n",
       "    <tr>\n",
       "      <th>count</th>\n",
       "      <td>2.274500e+04</td>\n",
       "      <td>2.274500e+04</td>\n",
       "      <td>22745.000000</td>\n",
       "      <td>22745.000000</td>\n",
       "      <td>22745.000000</td>\n",
       "      <td>22745.000000</td>\n",
       "      <td>22745.000000</td>\n",
       "      <td>22745.000000</td>\n",
       "      <td>22745.000000</td>\n",
       "      <td>22745.000000</td>\n",
       "      <td>22745.000000</td>\n",
       "      <td>22745.000000</td>\n",
       "      <td>22745.000000</td>\n",
       "      <td>22745.000000</td>\n",
       "    </tr>\n",
       "    <tr>\n",
       "      <th>mean</th>\n",
       "      <td>1.481831e+14</td>\n",
       "      <td>5.655767e+06</td>\n",
       "      <td>36.912552</td>\n",
       "      <td>0.048582</td>\n",
       "      <td>0.193757</td>\n",
       "      <td>0.071049</td>\n",
       "      <td>0.048274</td>\n",
       "      <td>0.020796</td>\n",
       "      <td>0.475093</td>\n",
       "      <td>4.618466</td>\n",
       "      <td>15.322049</td>\n",
       "      <td>5.210947</td>\n",
       "      <td>12.452011</td>\n",
       "      <td>14.403561</td>\n",
       "    </tr>\n",
       "    <tr>\n",
       "      <th>std</th>\n",
       "      <td>2.560095e+14</td>\n",
       "      <td>7.392795e+04</td>\n",
       "      <td>23.954550</td>\n",
       "      <td>0.214997</td>\n",
       "      <td>0.395249</td>\n",
       "      <td>0.256912</td>\n",
       "      <td>0.214350</td>\n",
       "      <td>0.142703</td>\n",
       "      <td>0.499390</td>\n",
       "      <td>0.733987</td>\n",
       "      <td>9.372218</td>\n",
       "      <td>0.476306</td>\n",
       "      <td>9.074960</td>\n",
       "      <td>16.204376</td>\n",
       "    </tr>\n",
       "    <tr>\n",
       "      <th>min</th>\n",
       "      <td>1.417242e+05</td>\n",
       "      <td>5.122866e+06</td>\n",
       "      <td>1.000000</td>\n",
       "      <td>0.000000</td>\n",
       "      <td>0.000000</td>\n",
       "      <td>0.000000</td>\n",
       "      <td>0.000000</td>\n",
       "      <td>0.000000</td>\n",
       "      <td>0.000000</td>\n",
       "      <td>1.000000</td>\n",
       "      <td>1.000000</td>\n",
       "      <td>4.000000</td>\n",
       "      <td>1.000000</td>\n",
       "      <td>0.000000</td>\n",
       "    </tr>\n",
       "    <tr>\n",
       "      <th>25%</th>\n",
       "      <td>4.258696e+12</td>\n",
       "      <td>5.618664e+06</td>\n",
       "      <td>13.000000</td>\n",
       "      <td>0.000000</td>\n",
       "      <td>0.000000</td>\n",
       "      <td>0.000000</td>\n",
       "      <td>0.000000</td>\n",
       "      <td>0.000000</td>\n",
       "      <td>0.000000</td>\n",
       "      <td>4.000000</td>\n",
       "      <td>6.000000</td>\n",
       "      <td>5.000000</td>\n",
       "      <td>5.000000</td>\n",
       "      <td>3.000000</td>\n",
       "    </tr>\n",
       "    <tr>\n",
       "      <th>50%</th>\n",
       "      <td>3.284838e+13</td>\n",
       "      <td>5.661706e+06</td>\n",
       "      <td>37.000000</td>\n",
       "      <td>0.000000</td>\n",
       "      <td>0.000000</td>\n",
       "      <td>0.000000</td>\n",
       "      <td>0.000000</td>\n",
       "      <td>0.000000</td>\n",
       "      <td>0.000000</td>\n",
       "      <td>5.000000</td>\n",
       "      <td>16.000000</td>\n",
       "      <td>5.000000</td>\n",
       "      <td>10.000000</td>\n",
       "      <td>8.000000</td>\n",
       "    </tr>\n",
       "    <tr>\n",
       "      <th>75%</th>\n",
       "      <td>9.444517e+13</td>\n",
       "      <td>5.707145e+06</td>\n",
       "      <td>57.000000</td>\n",
       "      <td>0.000000</td>\n",
       "      <td>0.000000</td>\n",
       "      <td>0.000000</td>\n",
       "      <td>0.000000</td>\n",
       "      <td>0.000000</td>\n",
       "      <td>1.000000</td>\n",
       "      <td>5.000000</td>\n",
       "      <td>25.000000</td>\n",
       "      <td>5.000000</td>\n",
       "      <td>19.000000</td>\n",
       "      <td>21.000000</td>\n",
       "    </tr>\n",
       "    <tr>\n",
       "      <th>max</th>\n",
       "      <td>9.999320e+14</td>\n",
       "      <td>5.784952e+06</td>\n",
       "      <td>100.000000</td>\n",
       "      <td>1.000000</td>\n",
       "      <td>1.000000</td>\n",
       "      <td>1.000000</td>\n",
       "      <td>1.000000</td>\n",
       "      <td>1.000000</td>\n",
       "      <td>1.000000</td>\n",
       "      <td>12.000000</td>\n",
       "      <td>31.000000</td>\n",
       "      <td>6.000000</td>\n",
       "      <td>31.000000</td>\n",
       "      <td>178.000000</td>\n",
       "    </tr>\n",
       "  </tbody>\n",
       "</table>\n",
       "</div>"
      ],
      "text/plain": [
       "          PatientId  AppointmentID           Age   Scholarship  Hipertension  \\\n",
       "count  2.274500e+04   2.274500e+04  22745.000000  22745.000000  22745.000000   \n",
       "mean   1.481831e+14   5.655767e+06     36.912552      0.048582      0.193757   \n",
       "std    2.560095e+14   7.392795e+04     23.954550      0.214997      0.395249   \n",
       "min    1.417242e+05   5.122866e+06      1.000000      0.000000      0.000000   \n",
       "25%    4.258696e+12   5.618664e+06     13.000000      0.000000      0.000000   \n",
       "50%    3.284838e+13   5.661706e+06     37.000000      0.000000      0.000000   \n",
       "75%    9.444517e+13   5.707145e+06     57.000000      0.000000      0.000000   \n",
       "max    9.999320e+14   5.784952e+06    100.000000      1.000000      1.000000   \n",
       "\n",
       "           Diabetes    Alcoholism       Handcap  SMS_received     Sch_month  \\\n",
       "count  22745.000000  22745.000000  22745.000000  22745.000000  22745.000000   \n",
       "mean       0.071049      0.048274      0.020796      0.475093      4.618466   \n",
       "std        0.256912      0.214350      0.142703      0.499390      0.733987   \n",
       "min        0.000000      0.000000      0.000000      0.000000      1.000000   \n",
       "25%        0.000000      0.000000      0.000000      0.000000      4.000000   \n",
       "50%        0.000000      0.000000      0.000000      0.000000      5.000000   \n",
       "75%        0.000000      0.000000      0.000000      1.000000      5.000000   \n",
       "max        1.000000      1.000000      1.000000      1.000000     12.000000   \n",
       "\n",
       "            Sch_day     App_month       App_day      num_days  \n",
       "count  22745.000000  22745.000000  22745.000000  22745.000000  \n",
       "mean      15.322049      5.210947     12.452011     14.403561  \n",
       "std        9.372218      0.476306      9.074960     16.204376  \n",
       "min        1.000000      4.000000      1.000000      0.000000  \n",
       "25%        6.000000      5.000000      5.000000      3.000000  \n",
       "50%       16.000000      5.000000     10.000000      8.000000  \n",
       "75%       25.000000      5.000000     19.000000     21.000000  \n",
       "max       31.000000      6.000000     31.000000    178.000000  "
      ]
     },
     "execution_count": 19,
     "metadata": {},
     "output_type": "execute_result"
    }
   ],
   "source": [
    "describe_data(df_m)"
   ]
  },
  {
   "cell_type": "code",
   "execution_count": 20,
   "metadata": {},
   "outputs": [
    {
     "data": {
      "text/html": [
       "<div>\n",
       "<style scoped>\n",
       "    .dataframe tbody tr th:only-of-type {\n",
       "        vertical-align: middle;\n",
       "    }\n",
       "\n",
       "    .dataframe tbody tr th {\n",
       "        vertical-align: top;\n",
       "    }\n",
       "\n",
       "    .dataframe thead th {\n",
       "        text-align: right;\n",
       "    }\n",
       "</style>\n",
       "<table border=\"1\" class=\"dataframe\">\n",
       "  <thead>\n",
       "    <tr style=\"text-align: right;\">\n",
       "      <th></th>\n",
       "      <th>PatientId</th>\n",
       "      <th>AppointmentID</th>\n",
       "      <th>Age</th>\n",
       "      <th>Scholarship</th>\n",
       "      <th>Hipertension</th>\n",
       "      <th>Diabetes</th>\n",
       "      <th>Alcoholism</th>\n",
       "      <th>Handcap</th>\n",
       "      <th>SMS_received</th>\n",
       "      <th>Sch_month</th>\n",
       "      <th>Sch_day</th>\n",
       "      <th>App_month</th>\n",
       "      <th>App_day</th>\n",
       "      <th>num_days</th>\n",
       "    </tr>\n",
       "  </thead>\n",
       "  <tbody>\n",
       "    <tr>\n",
       "      <th>count</th>\n",
       "      <td>4.696100e+04</td>\n",
       "      <td>4.696100e+04</td>\n",
       "      <td>46961.000000</td>\n",
       "      <td>46961.000000</td>\n",
       "      <td>46961.00000</td>\n",
       "      <td>46961.000000</td>\n",
       "      <td>46961.000000</td>\n",
       "      <td>46961.000000</td>\n",
       "      <td>46961.000000</td>\n",
       "      <td>46961.000000</td>\n",
       "      <td>46961.000000</td>\n",
       "      <td>46961.000000</td>\n",
       "      <td>46961.000000</td>\n",
       "      <td>46961.000000</td>\n",
       "    </tr>\n",
       "    <tr>\n",
       "      <th>mean</th>\n",
       "      <td>1.437475e+14</td>\n",
       "      <td>5.655150e+06</td>\n",
       "      <td>40.995273</td>\n",
       "      <td>0.117800</td>\n",
       "      <td>0.22508</td>\n",
       "      <td>0.079470</td>\n",
       "      <td>0.015268</td>\n",
       "      <td>0.015162</td>\n",
       "      <td>0.505356</td>\n",
       "      <td>4.622900</td>\n",
       "      <td>15.103298</td>\n",
       "      <td>5.212027</td>\n",
       "      <td>12.521646</td>\n",
       "      <td>14.665914</td>\n",
       "    </tr>\n",
       "    <tr>\n",
       "      <th>std</th>\n",
       "      <td>2.522481e+14</td>\n",
       "      <td>7.523260e+04</td>\n",
       "      <td>21.229924</td>\n",
       "      <td>0.322374</td>\n",
       "      <td>0.41764</td>\n",
       "      <td>0.270474</td>\n",
       "      <td>0.122618</td>\n",
       "      <td>0.122196</td>\n",
       "      <td>0.499977</td>\n",
       "      <td>0.743726</td>\n",
       "      <td>9.351161</td>\n",
       "      <td>0.476667</td>\n",
       "      <td>9.058679</td>\n",
       "      <td>16.663160</td>\n",
       "    </tr>\n",
       "    <tr>\n",
       "      <th>min</th>\n",
       "      <td>3.921784e+04</td>\n",
       "      <td>5.030230e+06</td>\n",
       "      <td>1.000000</td>\n",
       "      <td>0.000000</td>\n",
       "      <td>0.00000</td>\n",
       "      <td>0.000000</td>\n",
       "      <td>0.000000</td>\n",
       "      <td>0.000000</td>\n",
       "      <td>0.000000</td>\n",
       "      <td>1.000000</td>\n",
       "      <td>1.000000</td>\n",
       "      <td>4.000000</td>\n",
       "      <td>1.000000</td>\n",
       "      <td>0.000000</td>\n",
       "    </tr>\n",
       "    <tr>\n",
       "      <th>25%</th>\n",
       "      <td>3.889158e+12</td>\n",
       "      <td>5.617846e+06</td>\n",
       "      <td>24.000000</td>\n",
       "      <td>0.000000</td>\n",
       "      <td>0.00000</td>\n",
       "      <td>0.000000</td>\n",
       "      <td>0.000000</td>\n",
       "      <td>0.000000</td>\n",
       "      <td>0.000000</td>\n",
       "      <td>4.000000</td>\n",
       "      <td>6.000000</td>\n",
       "      <td>5.000000</td>\n",
       "      <td>5.000000</td>\n",
       "      <td>3.000000</td>\n",
       "    </tr>\n",
       "    <tr>\n",
       "      <th>50%</th>\n",
       "      <td>2.912282e+13</td>\n",
       "      <td>5.661544e+06</td>\n",
       "      <td>41.000000</td>\n",
       "      <td>0.000000</td>\n",
       "      <td>0.00000</td>\n",
       "      <td>0.000000</td>\n",
       "      <td>0.000000</td>\n",
       "      <td>0.000000</td>\n",
       "      <td>1.000000</td>\n",
       "      <td>5.000000</td>\n",
       "      <td>15.000000</td>\n",
       "      <td>5.000000</td>\n",
       "      <td>10.000000</td>\n",
       "      <td>8.000000</td>\n",
       "    </tr>\n",
       "    <tr>\n",
       "      <th>75%</th>\n",
       "      <td>9.334735e+13</td>\n",
       "      <td>5.707750e+06</td>\n",
       "      <td>57.000000</td>\n",
       "      <td>0.000000</td>\n",
       "      <td>0.00000</td>\n",
       "      <td>0.000000</td>\n",
       "      <td>0.000000</td>\n",
       "      <td>0.000000</td>\n",
       "      <td>1.000000</td>\n",
       "      <td>5.000000</td>\n",
       "      <td>25.000000</td>\n",
       "      <td>5.000000</td>\n",
       "      <td>19.000000</td>\n",
       "      <td>21.000000</td>\n",
       "    </tr>\n",
       "    <tr>\n",
       "      <th>max</th>\n",
       "      <td>9.999275e+14</td>\n",
       "      <td>5.784985e+06</td>\n",
       "      <td>115.000000</td>\n",
       "      <td>1.000000</td>\n",
       "      <td>1.00000</td>\n",
       "      <td>1.000000</td>\n",
       "      <td>1.000000</td>\n",
       "      <td>1.000000</td>\n",
       "      <td>1.000000</td>\n",
       "      <td>12.000000</td>\n",
       "      <td>31.000000</td>\n",
       "      <td>6.000000</td>\n",
       "      <td>31.000000</td>\n",
       "      <td>178.000000</td>\n",
       "    </tr>\n",
       "  </tbody>\n",
       "</table>\n",
       "</div>"
      ],
      "text/plain": [
       "          PatientId  AppointmentID           Age   Scholarship  Hipertension  \\\n",
       "count  4.696100e+04   4.696100e+04  46961.000000  46961.000000   46961.00000   \n",
       "mean   1.437475e+14   5.655150e+06     40.995273      0.117800       0.22508   \n",
       "std    2.522481e+14   7.523260e+04     21.229924      0.322374       0.41764   \n",
       "min    3.921784e+04   5.030230e+06      1.000000      0.000000       0.00000   \n",
       "25%    3.889158e+12   5.617846e+06     24.000000      0.000000       0.00000   \n",
       "50%    2.912282e+13   5.661544e+06     41.000000      0.000000       0.00000   \n",
       "75%    9.334735e+13   5.707750e+06     57.000000      0.000000       0.00000   \n",
       "max    9.999275e+14   5.784985e+06    115.000000      1.000000       1.00000   \n",
       "\n",
       "           Diabetes    Alcoholism       Handcap  SMS_received     Sch_month  \\\n",
       "count  46961.000000  46961.000000  46961.000000  46961.000000  46961.000000   \n",
       "mean       0.079470      0.015268      0.015162      0.505356      4.622900   \n",
       "std        0.270474      0.122618      0.122196      0.499977      0.743726   \n",
       "min        0.000000      0.000000      0.000000      0.000000      1.000000   \n",
       "25%        0.000000      0.000000      0.000000      0.000000      4.000000   \n",
       "50%        0.000000      0.000000      0.000000      1.000000      5.000000   \n",
       "75%        0.000000      0.000000      0.000000      1.000000      5.000000   \n",
       "max        1.000000      1.000000      1.000000      1.000000     12.000000   \n",
       "\n",
       "            Sch_day     App_month       App_day      num_days  \n",
       "count  46961.000000  46961.000000  46961.000000  46961.000000  \n",
       "mean      15.103298      5.212027     12.521646     14.665914  \n",
       "std        9.351161      0.476667      9.058679     16.663160  \n",
       "min        1.000000      4.000000      1.000000      0.000000  \n",
       "25%        6.000000      5.000000      5.000000      3.000000  \n",
       "50%       15.000000      5.000000     10.000000      8.000000  \n",
       "75%       25.000000      5.000000     19.000000     21.000000  \n",
       "max       31.000000      6.000000     31.000000    178.000000  "
      ]
     },
     "execution_count": 20,
     "metadata": {},
     "output_type": "execute_result"
    }
   ],
   "source": [
    "describe_data(df_f)"
   ]
  },
  {
   "cell_type": "markdown",
   "metadata": {},
   "source": [
    "### The relation between Female and show / No-show"
   ]
  },
  {
   "cell_type": "code",
   "execution_count": 21,
   "metadata": {},
   "outputs": [],
   "source": [
    "df_fy = df_f[df_f['No-show'] == 'Yes']\n",
    "df_fn = df_f[df_f['No-show'] == 'No']"
   ]
  },
  {
   "cell_type": "markdown",
   "metadata": {},
   "source": [
    "The two datasets is further divided by whether patinet is showing or not to his/her appointment. Then the statistics is computed as follow: "
   ]
  },
  {
   "cell_type": "code",
   "execution_count": 22,
   "metadata": {},
   "outputs": [
    {
     "data": {
      "text/html": [
       "<div>\n",
       "<style scoped>\n",
       "    .dataframe tbody tr th:only-of-type {\n",
       "        vertical-align: middle;\n",
       "    }\n",
       "\n",
       "    .dataframe tbody tr th {\n",
       "        vertical-align: top;\n",
       "    }\n",
       "\n",
       "    .dataframe thead th {\n",
       "        text-align: right;\n",
       "    }\n",
       "</style>\n",
       "<table border=\"1\" class=\"dataframe\">\n",
       "  <thead>\n",
       "    <tr style=\"text-align: right;\">\n",
       "      <th></th>\n",
       "      <th>PatientId</th>\n",
       "      <th>AppointmentID</th>\n",
       "      <th>Age</th>\n",
       "      <th>Scholarship</th>\n",
       "      <th>Hipertension</th>\n",
       "      <th>Diabetes</th>\n",
       "      <th>Alcoholism</th>\n",
       "      <th>Handcap</th>\n",
       "      <th>SMS_received</th>\n",
       "      <th>Sch_month</th>\n",
       "      <th>Sch_day</th>\n",
       "      <th>App_month</th>\n",
       "      <th>App_day</th>\n",
       "      <th>num_days</th>\n",
       "    </tr>\n",
       "  </thead>\n",
       "  <tbody>\n",
       "    <tr>\n",
       "      <th>count</th>\n",
       "      <td>1.335500e+04</td>\n",
       "      <td>1.335500e+04</td>\n",
       "      <td>13355.000000</td>\n",
       "      <td>13355.000000</td>\n",
       "      <td>13355.000000</td>\n",
       "      <td>13355.000000</td>\n",
       "      <td>13355.00000</td>\n",
       "      <td>13355.000000</td>\n",
       "      <td>13355.000000</td>\n",
       "      <td>13355.000000</td>\n",
       "      <td>13355.000000</td>\n",
       "      <td>13355.000000</td>\n",
       "      <td>13355.000000</td>\n",
       "      <td>13355.000000</td>\n",
       "    </tr>\n",
       "    <tr>\n",
       "      <th>mean</th>\n",
       "      <td>1.455965e+14</td>\n",
       "      <td>5.647718e+06</td>\n",
       "      <td>37.140696</td>\n",
       "      <td>0.146612</td>\n",
       "      <td>0.186073</td>\n",
       "      <td>0.070910</td>\n",
       "      <td>0.02164</td>\n",
       "      <td>0.014152</td>\n",
       "      <td>0.494422</td>\n",
       "      <td>4.546911</td>\n",
       "      <td>15.366979</td>\n",
       "      <td>5.190490</td>\n",
       "      <td>12.628154</td>\n",
       "      <td>16.093224</td>\n",
       "    </tr>\n",
       "    <tr>\n",
       "      <th>std</th>\n",
       "      <td>2.541859e+14</td>\n",
       "      <td>7.458022e+04</td>\n",
       "      <td>20.616169</td>\n",
       "      <td>0.353732</td>\n",
       "      <td>0.389180</td>\n",
       "      <td>0.256684</td>\n",
       "      <td>0.14551</td>\n",
       "      <td>0.118122</td>\n",
       "      <td>0.499988</td>\n",
       "      <td>0.739023</td>\n",
       "      <td>9.256898</td>\n",
       "      <td>0.459649</td>\n",
       "      <td>8.921182</td>\n",
       "      <td>16.642469</td>\n",
       "    </tr>\n",
       "    <tr>\n",
       "      <th>min</th>\n",
       "      <td>6.485121e+07</td>\n",
       "      <td>5.134197e+06</td>\n",
       "      <td>1.000000</td>\n",
       "      <td>0.000000</td>\n",
       "      <td>0.000000</td>\n",
       "      <td>0.000000</td>\n",
       "      <td>0.00000</td>\n",
       "      <td>0.000000</td>\n",
       "      <td>0.000000</td>\n",
       "      <td>1.000000</td>\n",
       "      <td>1.000000</td>\n",
       "      <td>4.000000</td>\n",
       "      <td>1.000000</td>\n",
       "      <td>0.000000</td>\n",
       "    </tr>\n",
       "    <tr>\n",
       "      <th>25%</th>\n",
       "      <td>4.176779e+12</td>\n",
       "      <td>5.608480e+06</td>\n",
       "      <td>21.000000</td>\n",
       "      <td>0.000000</td>\n",
       "      <td>0.000000</td>\n",
       "      <td>0.000000</td>\n",
       "      <td>0.00000</td>\n",
       "      <td>0.000000</td>\n",
       "      <td>0.000000</td>\n",
       "      <td>4.000000</td>\n",
       "      <td>6.000000</td>\n",
       "      <td>5.000000</td>\n",
       "      <td>5.000000</td>\n",
       "      <td>4.000000</td>\n",
       "    </tr>\n",
       "    <tr>\n",
       "      <th>50%</th>\n",
       "      <td>3.135918e+13</td>\n",
       "      <td>5.653222e+06</td>\n",
       "      <td>35.000000</td>\n",
       "      <td>0.000000</td>\n",
       "      <td>0.000000</td>\n",
       "      <td>0.000000</td>\n",
       "      <td>0.00000</td>\n",
       "      <td>0.000000</td>\n",
       "      <td>0.000000</td>\n",
       "      <td>5.000000</td>\n",
       "      <td>15.000000</td>\n",
       "      <td>5.000000</td>\n",
       "      <td>11.000000</td>\n",
       "      <td>12.000000</td>\n",
       "    </tr>\n",
       "    <tr>\n",
       "      <th>75%</th>\n",
       "      <td>9.438909e+13</td>\n",
       "      <td>5.698566e+06</td>\n",
       "      <td>52.000000</td>\n",
       "      <td>0.000000</td>\n",
       "      <td>0.000000</td>\n",
       "      <td>0.000000</td>\n",
       "      <td>0.00000</td>\n",
       "      <td>0.000000</td>\n",
       "      <td>1.000000</td>\n",
       "      <td>5.000000</td>\n",
       "      <td>25.000000</td>\n",
       "      <td>5.000000</td>\n",
       "      <td>19.000000</td>\n",
       "      <td>24.000000</td>\n",
       "    </tr>\n",
       "    <tr>\n",
       "      <th>max</th>\n",
       "      <td>9.996585e+14</td>\n",
       "      <td>5.784663e+06</td>\n",
       "      <td>115.000000</td>\n",
       "      <td>1.000000</td>\n",
       "      <td>1.000000</td>\n",
       "      <td>1.000000</td>\n",
       "      <td>1.00000</td>\n",
       "      <td>1.000000</td>\n",
       "      <td>1.000000</td>\n",
       "      <td>12.000000</td>\n",
       "      <td>31.000000</td>\n",
       "      <td>6.000000</td>\n",
       "      <td>31.000000</td>\n",
       "      <td>178.000000</td>\n",
       "    </tr>\n",
       "  </tbody>\n",
       "</table>\n",
       "</div>"
      ],
      "text/plain": [
       "          PatientId  AppointmentID           Age   Scholarship  Hipertension  \\\n",
       "count  1.335500e+04   1.335500e+04  13355.000000  13355.000000  13355.000000   \n",
       "mean   1.455965e+14   5.647718e+06     37.140696      0.146612      0.186073   \n",
       "std    2.541859e+14   7.458022e+04     20.616169      0.353732      0.389180   \n",
       "min    6.485121e+07   5.134197e+06      1.000000      0.000000      0.000000   \n",
       "25%    4.176779e+12   5.608480e+06     21.000000      0.000000      0.000000   \n",
       "50%    3.135918e+13   5.653222e+06     35.000000      0.000000      0.000000   \n",
       "75%    9.438909e+13   5.698566e+06     52.000000      0.000000      0.000000   \n",
       "max    9.996585e+14   5.784663e+06    115.000000      1.000000      1.000000   \n",
       "\n",
       "           Diabetes   Alcoholism       Handcap  SMS_received     Sch_month  \\\n",
       "count  13355.000000  13355.00000  13355.000000  13355.000000  13355.000000   \n",
       "mean       0.070910      0.02164      0.014152      0.494422      4.546911   \n",
       "std        0.256684      0.14551      0.118122      0.499988      0.739023   \n",
       "min        0.000000      0.00000      0.000000      0.000000      1.000000   \n",
       "25%        0.000000      0.00000      0.000000      0.000000      4.000000   \n",
       "50%        0.000000      0.00000      0.000000      0.000000      5.000000   \n",
       "75%        0.000000      0.00000      0.000000      1.000000      5.000000   \n",
       "max        1.000000      1.00000      1.000000      1.000000     12.000000   \n",
       "\n",
       "            Sch_day     App_month       App_day      num_days  \n",
       "count  13355.000000  13355.000000  13355.000000  13355.000000  \n",
       "mean      15.366979      5.190490     12.628154     16.093224  \n",
       "std        9.256898      0.459649      8.921182     16.642469  \n",
       "min        1.000000      4.000000      1.000000      0.000000  \n",
       "25%        6.000000      5.000000      5.000000      4.000000  \n",
       "50%       15.000000      5.000000     11.000000     12.000000  \n",
       "75%       25.000000      5.000000     19.000000     24.000000  \n",
       "max       31.000000      6.000000     31.000000    178.000000  "
      ]
     },
     "execution_count": 22,
     "metadata": {},
     "output_type": "execute_result"
    }
   ],
   "source": [
    "describe_data(df_fy)"
   ]
  },
  {
   "cell_type": "code",
   "execution_count": 23,
   "metadata": {},
   "outputs": [
    {
     "data": {
      "text/html": [
       "<div>\n",
       "<style scoped>\n",
       "    .dataframe tbody tr th:only-of-type {\n",
       "        vertical-align: middle;\n",
       "    }\n",
       "\n",
       "    .dataframe tbody tr th {\n",
       "        vertical-align: top;\n",
       "    }\n",
       "\n",
       "    .dataframe thead th {\n",
       "        text-align: right;\n",
       "    }\n",
       "</style>\n",
       "<table border=\"1\" class=\"dataframe\">\n",
       "  <thead>\n",
       "    <tr style=\"text-align: right;\">\n",
       "      <th></th>\n",
       "      <th>PatientId</th>\n",
       "      <th>AppointmentID</th>\n",
       "      <th>Age</th>\n",
       "      <th>Scholarship</th>\n",
       "      <th>Hipertension</th>\n",
       "      <th>Diabetes</th>\n",
       "      <th>Alcoholism</th>\n",
       "      <th>Handcap</th>\n",
       "      <th>SMS_received</th>\n",
       "      <th>Sch_month</th>\n",
       "      <th>Sch_day</th>\n",
       "      <th>App_month</th>\n",
       "      <th>App_day</th>\n",
       "      <th>num_days</th>\n",
       "    </tr>\n",
       "  </thead>\n",
       "  <tbody>\n",
       "    <tr>\n",
       "      <th>count</th>\n",
       "      <td>3.360600e+04</td>\n",
       "      <td>3.360600e+04</td>\n",
       "      <td>33606.000000</td>\n",
       "      <td>33606.00000</td>\n",
       "      <td>33606.000000</td>\n",
       "      <td>33606.000000</td>\n",
       "      <td>33606.000000</td>\n",
       "      <td>33606.000000</td>\n",
       "      <td>33606.000000</td>\n",
       "      <td>33606.000000</td>\n",
       "      <td>33606.000000</td>\n",
       "      <td>33606.000000</td>\n",
       "      <td>33606.000000</td>\n",
       "      <td>33606.000000</td>\n",
       "    </tr>\n",
       "    <tr>\n",
       "      <th>mean</th>\n",
       "      <td>1.430127e+14</td>\n",
       "      <td>5.658103e+06</td>\n",
       "      <td>42.527078</td>\n",
       "      <td>0.10635</td>\n",
       "      <td>0.240582</td>\n",
       "      <td>0.082872</td>\n",
       "      <td>0.012736</td>\n",
       "      <td>0.015563</td>\n",
       "      <td>0.509701</td>\n",
       "      <td>4.653098</td>\n",
       "      <td>14.998512</td>\n",
       "      <td>5.220586</td>\n",
       "      <td>12.479319</td>\n",
       "      <td>14.098703</td>\n",
       "    </tr>\n",
       "    <tr>\n",
       "      <th>std</th>\n",
       "      <td>2.514739e+14</td>\n",
       "      <td>7.528796e+04</td>\n",
       "      <td>21.276231</td>\n",
       "      <td>0.30829</td>\n",
       "      <td>0.427443</td>\n",
       "      <td>0.275693</td>\n",
       "      <td>0.112134</td>\n",
       "      <td>0.123778</td>\n",
       "      <td>0.499913</td>\n",
       "      <td>0.743445</td>\n",
       "      <td>9.386438</td>\n",
       "      <td>0.483004</td>\n",
       "      <td>9.112531</td>\n",
       "      <td>16.637658</td>\n",
       "    </tr>\n",
       "    <tr>\n",
       "      <th>min</th>\n",
       "      <td>3.921784e+04</td>\n",
       "      <td>5.030230e+06</td>\n",
       "      <td>1.000000</td>\n",
       "      <td>0.00000</td>\n",
       "      <td>0.000000</td>\n",
       "      <td>0.000000</td>\n",
       "      <td>0.000000</td>\n",
       "      <td>0.000000</td>\n",
       "      <td>0.000000</td>\n",
       "      <td>1.000000</td>\n",
       "      <td>1.000000</td>\n",
       "      <td>4.000000</td>\n",
       "      <td>1.000000</td>\n",
       "      <td>0.000000</td>\n",
       "    </tr>\n",
       "    <tr>\n",
       "      <th>25%</th>\n",
       "      <td>3.818939e+12</td>\n",
       "      <td>5.621540e+06</td>\n",
       "      <td>26.000000</td>\n",
       "      <td>0.00000</td>\n",
       "      <td>0.000000</td>\n",
       "      <td>0.000000</td>\n",
       "      <td>0.000000</td>\n",
       "      <td>0.000000</td>\n",
       "      <td>0.000000</td>\n",
       "      <td>4.000000</td>\n",
       "      <td>6.000000</td>\n",
       "      <td>5.000000</td>\n",
       "      <td>5.000000</td>\n",
       "      <td>3.000000</td>\n",
       "    </tr>\n",
       "    <tr>\n",
       "      <th>50%</th>\n",
       "      <td>2.866272e+13</td>\n",
       "      <td>5.665324e+06</td>\n",
       "      <td>44.000000</td>\n",
       "      <td>0.00000</td>\n",
       "      <td>0.000000</td>\n",
       "      <td>0.000000</td>\n",
       "      <td>0.000000</td>\n",
       "      <td>0.000000</td>\n",
       "      <td>1.000000</td>\n",
       "      <td>5.000000</td>\n",
       "      <td>15.000000</td>\n",
       "      <td>5.000000</td>\n",
       "      <td>10.000000</td>\n",
       "      <td>7.000000</td>\n",
       "    </tr>\n",
       "    <tr>\n",
       "      <th>75%</th>\n",
       "      <td>9.272451e+13</td>\n",
       "      <td>5.710639e+06</td>\n",
       "      <td>59.000000</td>\n",
       "      <td>0.00000</td>\n",
       "      <td>0.000000</td>\n",
       "      <td>0.000000</td>\n",
       "      <td>0.000000</td>\n",
       "      <td>0.000000</td>\n",
       "      <td>1.000000</td>\n",
       "      <td>5.000000</td>\n",
       "      <td>24.000000</td>\n",
       "      <td>6.000000</td>\n",
       "      <td>19.000000</td>\n",
       "      <td>20.000000</td>\n",
       "    </tr>\n",
       "    <tr>\n",
       "      <th>max</th>\n",
       "      <td>9.999275e+14</td>\n",
       "      <td>5.784985e+06</td>\n",
       "      <td>115.000000</td>\n",
       "      <td>1.00000</td>\n",
       "      <td>1.000000</td>\n",
       "      <td>1.000000</td>\n",
       "      <td>1.000000</td>\n",
       "      <td>1.000000</td>\n",
       "      <td>1.000000</td>\n",
       "      <td>12.000000</td>\n",
       "      <td>31.000000</td>\n",
       "      <td>6.000000</td>\n",
       "      <td>31.000000</td>\n",
       "      <td>178.000000</td>\n",
       "    </tr>\n",
       "  </tbody>\n",
       "</table>\n",
       "</div>"
      ],
      "text/plain": [
       "          PatientId  AppointmentID           Age  Scholarship  Hipertension  \\\n",
       "count  3.360600e+04   3.360600e+04  33606.000000  33606.00000  33606.000000   \n",
       "mean   1.430127e+14   5.658103e+06     42.527078      0.10635      0.240582   \n",
       "std    2.514739e+14   7.528796e+04     21.276231      0.30829      0.427443   \n",
       "min    3.921784e+04   5.030230e+06      1.000000      0.00000      0.000000   \n",
       "25%    3.818939e+12   5.621540e+06     26.000000      0.00000      0.000000   \n",
       "50%    2.866272e+13   5.665324e+06     44.000000      0.00000      0.000000   \n",
       "75%    9.272451e+13   5.710639e+06     59.000000      0.00000      0.000000   \n",
       "max    9.999275e+14   5.784985e+06    115.000000      1.00000      1.000000   \n",
       "\n",
       "           Diabetes    Alcoholism       Handcap  SMS_received     Sch_month  \\\n",
       "count  33606.000000  33606.000000  33606.000000  33606.000000  33606.000000   \n",
       "mean       0.082872      0.012736      0.015563      0.509701      4.653098   \n",
       "std        0.275693      0.112134      0.123778      0.499913      0.743445   \n",
       "min        0.000000      0.000000      0.000000      0.000000      1.000000   \n",
       "25%        0.000000      0.000000      0.000000      0.000000      4.000000   \n",
       "50%        0.000000      0.000000      0.000000      1.000000      5.000000   \n",
       "75%        0.000000      0.000000      0.000000      1.000000      5.000000   \n",
       "max        1.000000      1.000000      1.000000      1.000000     12.000000   \n",
       "\n",
       "            Sch_day     App_month       App_day      num_days  \n",
       "count  33606.000000  33606.000000  33606.000000  33606.000000  \n",
       "mean      14.998512      5.220586     12.479319     14.098703  \n",
       "std        9.386438      0.483004      9.112531     16.637658  \n",
       "min        1.000000      4.000000      1.000000      0.000000  \n",
       "25%        6.000000      5.000000      5.000000      3.000000  \n",
       "50%       15.000000      5.000000     10.000000      7.000000  \n",
       "75%       24.000000      6.000000     19.000000     20.000000  \n",
       "max       31.000000      6.000000     31.000000    178.000000  "
      ]
     },
     "execution_count": 23,
     "metadata": {},
     "output_type": "execute_result"
    }
   ],
   "source": [
    "describe_data(df_fn)"
   ]
  },
  {
   "cell_type": "markdown",
   "metadata": {},
   "source": [
    "Looking at each factor, Female at younger age tend to no show to their appointement. Same thing can be said for having a scholarship and receving SMS tend to miss their appointement. Also, Females who have Hipertension, Diabetes, or are handcap tend to show to their appointment. Alcoholism can be another factor for not showing to the appointment. "
   ]
  },
  {
   "cell_type": "code",
   "execution_count": 24,
   "metadata": {},
   "outputs": [
    {
     "data": {
      "image/png": "[encoded data removed]",
      "text/plain": [
       "<matplotlib.figure.Figure at 0x7f3c77a531d0>"
      ]
     },
     "metadata": {
      "needs_background": "light"
     },
     "output_type": "display_data"
    }
   ],
   "source": [
    "plt.hist(df_fy['Age'], color = 'b', alpha = 0.5)\n",
    "plt.hist(df_fn['Age'], color = 'r', alpha = 0.5)\n",
    "plt.show;"
   ]
  },
  {
   "cell_type": "markdown",
   "metadata": {},
   "source": [
    "The histogram shows the age distribution where it can be seen that female at younger age tend to miss their appointement."
   ]
  },
  {
   "cell_type": "markdown",
   "metadata": {},
   "source": [
    "### The relation between Male and show / No-show"
   ]
  },
  {
   "cell_type": "markdown",
   "metadata": {},
   "source": [
    "Doing the same analysis for Male."
   ]
  },
  {
   "cell_type": "code",
   "execution_count": 25,
   "metadata": {},
   "outputs": [],
   "source": [
    "df_ym = df_m[df_m['No-show'] == 'Yes']\n",
    "df_nm = df_m[df_m['No-show'] == 'No']"
   ]
  },
  {
   "cell_type": "code",
   "execution_count": 26,
   "metadata": {},
   "outputs": [
    {
     "data": {
      "text/html": [
       "<div>\n",
       "<style scoped>\n",
       "    .dataframe tbody tr th:only-of-type {\n",
       "        vertical-align: middle;\n",
       "    }\n",
       "\n",
       "    .dataframe tbody tr th {\n",
       "        vertical-align: top;\n",
       "    }\n",
       "\n",
       "    .dataframe thead th {\n",
       "        text-align: right;\n",
       "    }\n",
       "</style>\n",
       "<table border=\"1\" class=\"dataframe\">\n",
       "  <thead>\n",
       "    <tr style=\"text-align: right;\">\n",
       "      <th></th>\n",
       "      <th>PatientId</th>\n",
       "      <th>AppointmentID</th>\n",
       "      <th>Age</th>\n",
       "      <th>Scholarship</th>\n",
       "      <th>Hipertension</th>\n",
       "      <th>Diabetes</th>\n",
       "      <th>Alcoholism</th>\n",
       "      <th>Handcap</th>\n",
       "      <th>SMS_received</th>\n",
       "      <th>Sch_month</th>\n",
       "      <th>Sch_day</th>\n",
       "      <th>App_month</th>\n",
       "      <th>App_day</th>\n",
       "      <th>num_days</th>\n",
       "    </tr>\n",
       "  </thead>\n",
       "  <tbody>\n",
       "    <tr>\n",
       "      <th>count</th>\n",
       "      <td>6.542000e+03</td>\n",
       "      <td>6.542000e+03</td>\n",
       "      <td>6542.000000</td>\n",
       "      <td>6542.000000</td>\n",
       "      <td>6542.000000</td>\n",
       "      <td>6542.000000</td>\n",
       "      <td>6542.000000</td>\n",
       "      <td>6542.000000</td>\n",
       "      <td>6542.000000</td>\n",
       "      <td>6542.000000</td>\n",
       "      <td>6542.000000</td>\n",
       "      <td>6542.000000</td>\n",
       "      <td>6542.000000</td>\n",
       "      <td>6542.000000</td>\n",
       "    </tr>\n",
       "    <tr>\n",
       "      <th>mean</th>\n",
       "      <td>1.489071e+14</td>\n",
       "      <td>5.647416e+06</td>\n",
       "      <td>33.155916</td>\n",
       "      <td>0.056099</td>\n",
       "      <td>0.157444</td>\n",
       "      <td>0.059156</td>\n",
       "      <td>0.050443</td>\n",
       "      <td>0.016509</td>\n",
       "      <td>0.451850</td>\n",
       "      <td>4.545705</td>\n",
       "      <td>15.444665</td>\n",
       "      <td>5.195965</td>\n",
       "      <td>12.587435</td>\n",
       "      <td>16.330633</td>\n",
       "    </tr>\n",
       "    <tr>\n",
       "      <th>std</th>\n",
       "      <td>2.556781e+14</td>\n",
       "      <td>7.414594e+04</td>\n",
       "      <td>22.699081</td>\n",
       "      <td>0.230130</td>\n",
       "      <td>0.364247</td>\n",
       "      <td>0.235935</td>\n",
       "      <td>0.218875</td>\n",
       "      <td>0.127431</td>\n",
       "      <td>0.497714</td>\n",
       "      <td>0.751479</td>\n",
       "      <td>9.246207</td>\n",
       "      <td>0.467369</td>\n",
       "      <td>8.945088</td>\n",
       "      <td>16.582363</td>\n",
       "    </tr>\n",
       "    <tr>\n",
       "      <th>min</th>\n",
       "      <td>5.628261e+06</td>\n",
       "      <td>5.122866e+06</td>\n",
       "      <td>1.000000</td>\n",
       "      <td>0.000000</td>\n",
       "      <td>0.000000</td>\n",
       "      <td>0.000000</td>\n",
       "      <td>0.000000</td>\n",
       "      <td>0.000000</td>\n",
       "      <td>0.000000</td>\n",
       "      <td>1.000000</td>\n",
       "      <td>1.000000</td>\n",
       "      <td>4.000000</td>\n",
       "      <td>1.000000</td>\n",
       "      <td>0.000000</td>\n",
       "    </tr>\n",
       "    <tr>\n",
       "      <th>25%</th>\n",
       "      <td>4.121784e+12</td>\n",
       "      <td>5.606305e+06</td>\n",
       "      <td>12.000000</td>\n",
       "      <td>0.000000</td>\n",
       "      <td>0.000000</td>\n",
       "      <td>0.000000</td>\n",
       "      <td>0.000000</td>\n",
       "      <td>0.000000</td>\n",
       "      <td>0.000000</td>\n",
       "      <td>4.000000</td>\n",
       "      <td>6.000000</td>\n",
       "      <td>5.000000</td>\n",
       "      <td>5.000000</td>\n",
       "      <td>4.000000</td>\n",
       "    </tr>\n",
       "    <tr>\n",
       "      <th>50%</th>\n",
       "      <td>3.154340e+13</td>\n",
       "      <td>5.652874e+06</td>\n",
       "      <td>32.000000</td>\n",
       "      <td>0.000000</td>\n",
       "      <td>0.000000</td>\n",
       "      <td>0.000000</td>\n",
       "      <td>0.000000</td>\n",
       "      <td>0.000000</td>\n",
       "      <td>0.000000</td>\n",
       "      <td>5.000000</td>\n",
       "      <td>16.000000</td>\n",
       "      <td>5.000000</td>\n",
       "      <td>10.000000</td>\n",
       "      <td>12.000000</td>\n",
       "    </tr>\n",
       "    <tr>\n",
       "      <th>75%</th>\n",
       "      <td>9.531882e+13</td>\n",
       "      <td>5.697981e+06</td>\n",
       "      <td>51.000000</td>\n",
       "      <td>0.000000</td>\n",
       "      <td>0.000000</td>\n",
       "      <td>0.000000</td>\n",
       "      <td>0.000000</td>\n",
       "      <td>0.000000</td>\n",
       "      <td>1.000000</td>\n",
       "      <td>5.000000</td>\n",
       "      <td>25.000000</td>\n",
       "      <td>5.000000</td>\n",
       "      <td>19.000000</td>\n",
       "      <td>25.000000</td>\n",
       "    </tr>\n",
       "    <tr>\n",
       "      <th>max</th>\n",
       "      <td>9.996275e+14</td>\n",
       "      <td>5.783943e+06</td>\n",
       "      <td>95.000000</td>\n",
       "      <td>1.000000</td>\n",
       "      <td>1.000000</td>\n",
       "      <td>1.000000</td>\n",
       "      <td>1.000000</td>\n",
       "      <td>1.000000</td>\n",
       "      <td>1.000000</td>\n",
       "      <td>12.000000</td>\n",
       "      <td>31.000000</td>\n",
       "      <td>6.000000</td>\n",
       "      <td>31.000000</td>\n",
       "      <td>178.000000</td>\n",
       "    </tr>\n",
       "  </tbody>\n",
       "</table>\n",
       "</div>"
      ],
      "text/plain": [
       "          PatientId  AppointmentID          Age  Scholarship  Hipertension  \\\n",
       "count  6.542000e+03   6.542000e+03  6542.000000  6542.000000   6542.000000   \n",
       "mean   1.489071e+14   5.647416e+06    33.155916     0.056099      0.157444   \n",
       "std    2.556781e+14   7.414594e+04    22.699081     0.230130      0.364247   \n",
       "min    5.628261e+06   5.122866e+06     1.000000     0.000000      0.000000   \n",
       "25%    4.121784e+12   5.606305e+06    12.000000     0.000000      0.000000   \n",
       "50%    3.154340e+13   5.652874e+06    32.000000     0.000000      0.000000   \n",
       "75%    9.531882e+13   5.697981e+06    51.000000     0.000000      0.000000   \n",
       "max    9.996275e+14   5.783943e+06    95.000000     1.000000      1.000000   \n",
       "\n",
       "          Diabetes   Alcoholism      Handcap  SMS_received    Sch_month  \\\n",
       "count  6542.000000  6542.000000  6542.000000   6542.000000  6542.000000   \n",
       "mean      0.059156     0.050443     0.016509      0.451850     4.545705   \n",
       "std       0.235935     0.218875     0.127431      0.497714     0.751479   \n",
       "min       0.000000     0.000000     0.000000      0.000000     1.000000   \n",
       "25%       0.000000     0.000000     0.000000      0.000000     4.000000   \n",
       "50%       0.000000     0.000000     0.000000      0.000000     5.000000   \n",
       "75%       0.000000     0.000000     0.000000      1.000000     5.000000   \n",
       "max       1.000000     1.000000     1.000000      1.000000    12.000000   \n",
       "\n",
       "           Sch_day    App_month      App_day     num_days  \n",
       "count  6542.000000  6542.000000  6542.000000  6542.000000  \n",
       "mean     15.444665     5.195965    12.587435    16.330633  \n",
       "std       9.246207     0.467369     8.945088    16.582363  \n",
       "min       1.000000     4.000000     1.000000     0.000000  \n",
       "25%       6.000000     5.000000     5.000000     4.000000  \n",
       "50%      16.000000     5.000000    10.000000    12.000000  \n",
       "75%      25.000000     5.000000    19.000000    25.000000  \n",
       "max      31.000000     6.000000    31.000000   178.000000  "
      ]
     },
     "execution_count": 26,
     "metadata": {},
     "output_type": "execute_result"
    }
   ],
   "source": [
    "describe_data(df_ym)"
   ]
  },
  {
   "cell_type": "code",
   "execution_count": 27,
   "metadata": {},
   "outputs": [
    {
     "data": {
      "text/html": [
       "<div>\n",
       "<style scoped>\n",
       "    .dataframe tbody tr th:only-of-type {\n",
       "        vertical-align: middle;\n",
       "    }\n",
       "\n",
       "    .dataframe tbody tr th {\n",
       "        vertical-align: top;\n",
       "    }\n",
       "\n",
       "    .dataframe thead th {\n",
       "        text-align: right;\n",
       "    }\n",
       "</style>\n",
       "<table border=\"1\" class=\"dataframe\">\n",
       "  <thead>\n",
       "    <tr style=\"text-align: right;\">\n",
       "      <th></th>\n",
       "      <th>PatientId</th>\n",
       "      <th>AppointmentID</th>\n",
       "      <th>Age</th>\n",
       "      <th>Scholarship</th>\n",
       "      <th>Hipertension</th>\n",
       "      <th>Diabetes</th>\n",
       "      <th>Alcoholism</th>\n",
       "      <th>Handcap</th>\n",
       "      <th>SMS_received</th>\n",
       "      <th>Sch_month</th>\n",
       "      <th>Sch_day</th>\n",
       "      <th>App_month</th>\n",
       "      <th>App_day</th>\n",
       "      <th>num_days</th>\n",
       "    </tr>\n",
       "  </thead>\n",
       "  <tbody>\n",
       "    <tr>\n",
       "      <th>count</th>\n",
       "      <td>1.620300e+04</td>\n",
       "      <td>1.620300e+04</td>\n",
       "      <td>16203.000000</td>\n",
       "      <td>16203.000000</td>\n",
       "      <td>16203.000000</td>\n",
       "      <td>16203.000000</td>\n",
       "      <td>16203.000000</td>\n",
       "      <td>16203.000000</td>\n",
       "      <td>16203.000000</td>\n",
       "      <td>16203.000000</td>\n",
       "      <td>16203.000000</td>\n",
       "      <td>16203.000000</td>\n",
       "      <td>16203.000000</td>\n",
       "      <td>16203.000000</td>\n",
       "    </tr>\n",
       "    <tr>\n",
       "      <th>mean</th>\n",
       "      <td>1.478907e+14</td>\n",
       "      <td>5.659139e+06</td>\n",
       "      <td>38.429303</td>\n",
       "      <td>0.045547</td>\n",
       "      <td>0.208418</td>\n",
       "      <td>0.075850</td>\n",
       "      <td>0.047399</td>\n",
       "      <td>0.022527</td>\n",
       "      <td>0.484478</td>\n",
       "      <td>4.647843</td>\n",
       "      <td>15.272542</td>\n",
       "      <td>5.216997</td>\n",
       "      <td>12.397334</td>\n",
       "      <td>13.625501</td>\n",
       "    </tr>\n",
       "    <tr>\n",
       "      <th>std</th>\n",
       "      <td>2.561505e+14</td>\n",
       "      <td>7.357388e+04</td>\n",
       "      <td>24.279693</td>\n",
       "      <td>0.208507</td>\n",
       "      <td>0.406190</td>\n",
       "      <td>0.264766</td>\n",
       "      <td>0.212497</td>\n",
       "      <td>0.148393</td>\n",
       "      <td>0.499774</td>\n",
       "      <td>0.724762</td>\n",
       "      <td>9.422448</td>\n",
       "      <td>0.479749</td>\n",
       "      <td>9.126577</td>\n",
       "      <td>15.984052</td>\n",
       "    </tr>\n",
       "    <tr>\n",
       "      <th>min</th>\n",
       "      <td>1.417242e+05</td>\n",
       "      <td>5.134227e+06</td>\n",
       "      <td>1.000000</td>\n",
       "      <td>0.000000</td>\n",
       "      <td>0.000000</td>\n",
       "      <td>0.000000</td>\n",
       "      <td>0.000000</td>\n",
       "      <td>0.000000</td>\n",
       "      <td>0.000000</td>\n",
       "      <td>1.000000</td>\n",
       "      <td>1.000000</td>\n",
       "      <td>4.000000</td>\n",
       "      <td>1.000000</td>\n",
       "      <td>0.000000</td>\n",
       "    </tr>\n",
       "    <tr>\n",
       "      <th>25%</th>\n",
       "      <td>4.292658e+12</td>\n",
       "      <td>5.623798e+06</td>\n",
       "      <td>14.000000</td>\n",
       "      <td>0.000000</td>\n",
       "      <td>0.000000</td>\n",
       "      <td>0.000000</td>\n",
       "      <td>0.000000</td>\n",
       "      <td>0.000000</td>\n",
       "      <td>0.000000</td>\n",
       "      <td>4.000000</td>\n",
       "      <td>6.000000</td>\n",
       "      <td>5.000000</td>\n",
       "      <td>5.000000</td>\n",
       "      <td>3.000000</td>\n",
       "    </tr>\n",
       "    <tr>\n",
       "      <th>50%</th>\n",
       "      <td>3.343540e+13</td>\n",
       "      <td>5.665394e+06</td>\n",
       "      <td>40.000000</td>\n",
       "      <td>0.000000</td>\n",
       "      <td>0.000000</td>\n",
       "      <td>0.000000</td>\n",
       "      <td>0.000000</td>\n",
       "      <td>0.000000</td>\n",
       "      <td>0.000000</td>\n",
       "      <td>5.000000</td>\n",
       "      <td>16.000000</td>\n",
       "      <td>5.000000</td>\n",
       "      <td>10.000000</td>\n",
       "      <td>7.000000</td>\n",
       "    </tr>\n",
       "    <tr>\n",
       "      <th>75%</th>\n",
       "      <td>9.417089e+13</td>\n",
       "      <td>5.710570e+06</td>\n",
       "      <td>58.000000</td>\n",
       "      <td>0.000000</td>\n",
       "      <td>0.000000</td>\n",
       "      <td>0.000000</td>\n",
       "      <td>0.000000</td>\n",
       "      <td>0.000000</td>\n",
       "      <td>1.000000</td>\n",
       "      <td>5.000000</td>\n",
       "      <td>25.000000</td>\n",
       "      <td>5.000000</td>\n",
       "      <td>19.000000</td>\n",
       "      <td>20.000000</td>\n",
       "    </tr>\n",
       "    <tr>\n",
       "      <th>max</th>\n",
       "      <td>9.999320e+14</td>\n",
       "      <td>5.784952e+06</td>\n",
       "      <td>100.000000</td>\n",
       "      <td>1.000000</td>\n",
       "      <td>1.000000</td>\n",
       "      <td>1.000000</td>\n",
       "      <td>1.000000</td>\n",
       "      <td>1.000000</td>\n",
       "      <td>1.000000</td>\n",
       "      <td>12.000000</td>\n",
       "      <td>31.000000</td>\n",
       "      <td>6.000000</td>\n",
       "      <td>31.000000</td>\n",
       "      <td>178.000000</td>\n",
       "    </tr>\n",
       "  </tbody>\n",
       "</table>\n",
       "</div>"
      ],
      "text/plain": [
       "          PatientId  AppointmentID           Age   Scholarship  Hipertension  \\\n",
       "count  1.620300e+04   1.620300e+04  16203.000000  16203.000000  16203.000000   \n",
       "mean   1.478907e+14   5.659139e+06     38.429303      0.045547      0.208418   \n",
       "std    2.561505e+14   7.357388e+04     24.279693      0.208507      0.406190   \n",
       "min    1.417242e+05   5.134227e+06      1.000000      0.000000      0.000000   \n",
       "25%    4.292658e+12   5.623798e+06     14.000000      0.000000      0.000000   \n",
       "50%    3.343540e+13   5.665394e+06     40.000000      0.000000      0.000000   \n",
       "75%    9.417089e+13   5.710570e+06     58.000000      0.000000      0.000000   \n",
       "max    9.999320e+14   5.784952e+06    100.000000      1.000000      1.000000   \n",
       "\n",
       "           Diabetes    Alcoholism       Handcap  SMS_received     Sch_month  \\\n",
       "count  16203.000000  16203.000000  16203.000000  16203.000000  16203.000000   \n",
       "mean       0.075850      0.047399      0.022527      0.484478      4.647843   \n",
       "std        0.264766      0.212497      0.148393      0.499774      0.724762   \n",
       "min        0.000000      0.000000      0.000000      0.000000      1.000000   \n",
       "25%        0.000000      0.000000      0.000000      0.000000      4.000000   \n",
       "50%        0.000000      0.000000      0.000000      0.000000      5.000000   \n",
       "75%        0.000000      0.000000      0.000000      1.000000      5.000000   \n",
       "max        1.000000      1.000000      1.000000      1.000000     12.000000   \n",
       "\n",
       "            Sch_day     App_month       App_day      num_days  \n",
       "count  16203.000000  16203.000000  16203.000000  16203.000000  \n",
       "mean      15.272542      5.216997     12.397334     13.625501  \n",
       "std        9.422448      0.479749      9.126577     15.984052  \n",
       "min        1.000000      4.000000      1.000000      0.000000  \n",
       "25%        6.000000      5.000000      5.000000      3.000000  \n",
       "50%       16.000000      5.000000     10.000000      7.000000  \n",
       "75%       25.000000      5.000000     19.000000     20.000000  \n",
       "max       31.000000      6.000000     31.000000    178.000000  "
      ]
     },
     "execution_count": 27,
     "metadata": {},
     "output_type": "execute_result"
    }
   ],
   "source": [
    "describe_data(df_nm)"
   ]
  },
  {
   "cell_type": "markdown",
   "metadata": {},
   "source": [
    "Similary to the Female result, Male at younger age tend to no show to their appointement. Same thing can be said for having a scholarship and receving SMS tend to miss their appointement. Also, Males who have Hipertension, Diabetes, or are handcap tend to show to their appointment. Alcoholism can be another factor for not showing to the appointment. "
   ]
  },
  {
   "cell_type": "code",
   "execution_count": 28,
   "metadata": {},
   "outputs": [
    {
     "data": {
      "image/png": "[encoded data removed]",
      "text/plain": [
       "<matplotlib.figure.Figure at 0x7f3c77a917b8>"
      ]
     },
     "metadata": {
      "needs_background": "light"
     },
     "output_type": "display_data"
    }
   ],
   "source": [
    "plt.hist(df_ym['Age'], color = 'b', alpha = 0.5)\n",
    "plt.hist(df_nm['Age'], color = 'r', alpha = 0.5)\n",
    "plt.show;"
   ]
  },
  {
   "cell_type": "markdown",
   "metadata": {},
   "source": [
    "The histogram shows the age distribution where it can be seen that female at younger age tend to miss their appointement."
   ]
  },
  {
   "cell_type": "markdown",
   "metadata": {},
   "source": [
    "### Does The Neighbourhoods Have an Effect on Attending The Appointment"
   ]
  },
  {
   "cell_type": "code",
   "execution_count": 29,
   "metadata": {},
   "outputs": [
    {
     "name": "stdout",
     "output_type": "stream",
     "text": [
      "JARDIM CAMBURI\n"
     ]
    }
   ],
   "source": [
    "print(df_fy['Neighbourhood'].mode()[0])"
   ]
  },
  {
   "cell_type": "code",
   "execution_count": 30,
   "metadata": {},
   "outputs": [
    {
     "name": "stdout",
     "output_type": "stream",
     "text": [
      "JARDIM CAMBURI\n"
     ]
    }
   ],
   "source": [
    "print(df_fn['Neighbourhood'].mode()[0])"
   ]
  },
  {
   "cell_type": "code",
   "execution_count": 31,
   "metadata": {},
   "outputs": [
    {
     "name": "stdout",
     "output_type": "stream",
     "text": [
      "JARDIM CAMBURI\n"
     ]
    }
   ],
   "source": [
    "print(df_nm['Neighbourhood'].mode()[0])"
   ]
  },
  {
   "cell_type": "code",
   "execution_count": 32,
   "metadata": {},
   "outputs": [
    {
     "name": "stdout",
     "output_type": "stream",
     "text": [
      "JARDIM CAMBURI\n"
     ]
    }
   ],
   "source": [
    "print(df_ym['Neighbourhood'].mode()[0])"
   ]
  },
  {
   "cell_type": "markdown",
   "metadata": {},
   "source": [
    "The majority of patient who showed up to their appointment and who did not show up were coming from the same neighbourhood. "
   ]
  },
  {
   "cell_type": "markdown",
   "metadata": {},
   "source": [
    "### Does The Number of Days Between the Schedlue day and Appointment Day Has an Effect on Attending The Appointment"
   ]
  },
  {
   "cell_type": "markdown",
   "metadata": {},
   "source": [
    "The number of days between the schedlue day and appointment day for the four datasets has been ploted as shwon below:"
   ]
  },
  {
   "cell_type": "code",
   "execution_count": 33,
   "metadata": {},
   "outputs": [
    {
     "data": {
      "image/png": "[encoded data removed]",
      "text/plain": [
       "<matplotlib.figure.Figure at 0x7f3c74c2e630>"
      ]
     },
     "metadata": {
      "needs_background": "light"
     },
     "output_type": "display_data"
    }
   ],
   "source": [
    "df_ym['num_days'].hist();"
   ]
  },
  {
   "cell_type": "code",
   "execution_count": 34,
   "metadata": {},
   "outputs": [
    {
     "data": {
      "image/png": "[encoded data removed]",
      "text/plain": [
       "<matplotlib.figure.Figure at 0x7f3c74bb6b70>"
      ]
     },
     "metadata": {
      "needs_background": "light"
     },
     "output_type": "display_data"
    }
   ],
   "source": [
    "df_nm['num_days'].hist();"
   ]
  },
  {
   "cell_type": "code",
   "execution_count": 35,
   "metadata": {},
   "outputs": [
    {
     "data": {
      "image/png": "[encoded data removed]",
      "text/plain": [
       "<matplotlib.figure.Figure at 0x7f3c74bd7710>"
      ]
     },
     "metadata": {
      "needs_background": "light"
     },
     "output_type": "display_data"
    }
   ],
   "source": [
    "df_fn['num_days'].hist();"
   ]
  },
  {
   "cell_type": "code",
   "execution_count": 36,
   "metadata": {},
   "outputs": [
    {
     "data": {
      "image/png": "[encoded data removed]",
      "text/plain": [
       "<matplotlib.figure.Figure at 0x7f3c74c2a2e8>"
      ]
     },
     "metadata": {
      "needs_background": "light"
     },
     "output_type": "display_data"
    }
   ],
   "source": [
    "df_fy['num_days'].hist();"
   ]
  },
  {
   "cell_type": "markdown",
   "metadata": {},
   "source": [
    "The four graphs show a similarit, where showing and not shwoing have the same trend regarding the number of days."
   ]
  },
  {
   "cell_type": "code",
   "execution_count": 37,
   "metadata": {},
   "outputs": [
    {
     "name": "stdout",
     "output_type": "stream",
     "text": [
      "5    0.718056\n",
      "6    0.251265\n",
      "4    0.030679\n",
      "Name: App_month, dtype: float64\n"
     ]
    },
    {
     "data": {
      "text/plain": [
       "5     0.555942\n",
       "4     0.318485\n",
       "6     0.072814\n",
       "3     0.047759\n",
       "2     0.003184\n",
       "12    0.000982\n",
       "1     0.000803\n",
       "11    0.000030\n",
       "Name: Sch_month, dtype: float64"
      ]
     },
     "execution_count": 37,
     "metadata": {},
     "output_type": "execute_result"
    }
   ],
   "source": [
    "print(df_fn['App_month'].value_counts(6))\n",
    "df_fn['Sch_month'].value_counts(6)"
   ]
  },
  {
   "cell_type": "code",
   "execution_count": 38,
   "metadata": {},
   "outputs": [
    {
     "name": "stdout",
     "output_type": "stream",
     "text": [
      "5    0.752452\n",
      "6    0.219019\n",
      "4    0.028529\n",
      "Name: App_month, dtype: float64\n"
     ]
    },
    {
     "data": {
      "text/plain": [
       "5     0.507825\n",
       "4     0.378660\n",
       "3     0.056982\n",
       "6     0.050468\n",
       "2     0.004268\n",
       "1     0.000973\n",
       "12    0.000824\n",
       "Name: Sch_month, dtype: float64"
      ]
     },
     "execution_count": 38,
     "metadata": {},
     "output_type": "execute_result"
    }
   ],
   "source": [
    "print(df_fy['App_month'].value_counts(6))\n",
    "df_fy['Sch_month'].value_counts(6)"
   ]
  },
  {
   "cell_type": "markdown",
   "metadata": {},
   "source": [
    "Even the major months for show/ no-show are the same."
   ]
  },
  {
   "cell_type": "markdown",
   "metadata": {},
   "source": [
    "<a id='conclusions'></a>\n",
    "## Conclusions\n",
    "\n",
    "> The dataset that has been anaylized is from 100k medical appointments in Brazil and is focused on the question of whether or not patients show up for their appointment. \n",
    "\n",
    "> First, the data was cleaned to perform an accurate analysis. Then, an overall look at the data was performed finding that around 71% of the patients were showing up for their appointment.\n",
    "\n",
    "> Then, the dataset was divided into to sub-dataset based of 'Gender' to explore whether the gender could effect the show/ no-show varibale. The results show that around 71% showing to there appointement with a slight high no show amoung male.\n",
    "\n",
    "> Next, the two sub-datasets was further divided into two sub-datasets based on 'Show/ No-show'. The results represent that patients at younger age tend to no show to their appointement. Same thing can be said for having a scholarship and receving SMS tend to miss their appointement. Also, patients who have Hipertension, Diabetes, or are handcap tend to show to their appointment. Alcoholism can be another factor for not showing to the appointment.\n",
    "\n",
    "> Then, the major neighbourhood that most patients who show/no-show turns out to be 'JARDIM CAMBURI'.\n",
    "\n",
    "> Finally, the number of days between the schedlue day and appointment day was examined to see if there is any correlation with patients show/ no-show to their appointment.\n",
    "\n",
    "> The analysis need more investigation as it is not clear the the number of hospitals that exist in each neighbour. Also, the factors that affect show/ no-show are very close and no sharp conclusion can be made.  \n"
   ]
  },
  {
   "cell_type": "code",
   "execution_count": 39,
   "metadata": {},
   "outputs": [
    {
     "data": {
      "text/plain": [
       "0"
      ]
     },
     "execution_count": 39,
     "metadata": {},
     "output_type": "execute_result"
    }
   ],
   "source": [
    "from subprocess import call\n",
    "call(['python', '-m', 'nbconvert', 'Investigate_a_Dataset.ipynb'])"
   ]
  }
 ],
 "metadata": {
  "kernelspec": {
   "display_name": "Python 3",
   "language": "python",
   "name": "python3"
  },
  "language_info": {
   "codemirror_mode": {
    "name": "ipython",
    "version": 3
   },
   "file_extension": ".py",
   "mimetype": "text/x-python",
   "name": "python",
   "nbconvert_exporter": "python",
   "pygments_lexer": "ipython3",
   "version": "3.6.3"
  }
 },
 "nbformat": 4,
 "nbformat_minor": 2
}
